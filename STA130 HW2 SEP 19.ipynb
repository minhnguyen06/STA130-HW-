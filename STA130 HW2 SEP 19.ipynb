{
 "cells": [
  {
   "cell_type": "markdown",
   "id": "9351f293",
   "metadata": {},
   "source": [
    "https://chatgpt.com/share/66eb8368-b558-8003-be96-6240c2c51392\n",
    "Interaction Summary:\n",
    "1. Markovian Chatbot Initial Version:\n",
    "I presented code that builds a Markov chain text generator using single-word transitions. The code uses two dictionaries: word_used to count how many times each word appears, and next_word to track which word follows another and how frequently.\n",
    "\n",
    "2. Explanation of try and except:\n",
    "I asked about a division between two strings, which resulted in a TypeError. The try and except block was explained: try contains the code that might raise an error, and except catches and handles the error to prevent the program from crashing.\n",
    "\n",
    "3. Markovian Chatbot Extensions:\n",
    "I extended the original code to consider pairs of consecutive words instead of single words. This second-order Markov model uses word_used2 to count word pairs and next_word2 to track the word that follows a pair of words. This provides more context and produces more coherent text generation.\n",
    "\n",
    "4. Explanation of enumerate():\n",
    "enumerate() adds an index to each element in an iterable, allowing both the index and value to be accessed in a loop. For example, for i, fruit in enumerate(fruits) will return both the index (i) and the value (fruit) from the list fruits.\n",
    "\n",
    "5. Handling a Loop without enumerate():\n",
    "I attempted for i, fruit in fruits, which resulted in a ValueError. This is because each element in fruits is a single value (string), not a tuple, and cannot be unpacked into two variables (i and fruit). Using enumerate() correctly provides both the index and value."
   ]
  },
  {
   "cell_type": "markdown",
   "id": "1d811a94",
   "metadata": {},
   "source": [
    "https://chatgpt.com/share/66eb8948-9e30-8003-a0dd-74ae7a2a190e\n",
    "Monty Hall Problem Simulation Summary\n",
    "\n",
    "In this exercise, I simplified the Monty Hall problem simulation. The original code used list comprehensions to select doors, which was efficient but less intuitive. I refactored the code to break down the key steps into smaller, more understandable pieces using if statements. This allowed for better clarity on how Monty reveals a door and how the switching strategy works.\n",
    "\n",
    "Key Steps:\n",
    "Random Door Selection: The simulation starts by randomly selecting both a winning door and the player's initial door.\n",
    "Monty's Door Reveal: Monty reveals a door with a goat, which is neither the player's initial choice nor the winning door. This process was made clearer by explicitly checking each door using a for loop with if conditions.\n",
    "Switching the Door: After Monty reveals a door, the player switches to the remaining unopened door. This step was also broken down with an if statement.\n",
    "Win Condition: The simulation checks if switching doors results in winning, and the overall win ratio is calculated after running the simulation many times.\n",
    "By breaking down the logic into simple conditional checks, the process of Monty revealing a door and the door-switching strategy became clearer and easier to follow."
   ]
  },
  {
   "cell_type": "markdown",
   "id": "8c65651a",
   "metadata": {},
   "source": [
    "# Question 3"
   ]
  },
  {
   "cell_type": "code",
   "execution_count": 1,
   "id": "650b7d49",
   "metadata": {},
   "outputs": [
    {
     "name": "stdout",
     "output_type": "stream",
     "text": [
      "0.66478\n"
     ]
    }
   ],
   "source": [
    "import numpy as np #import library\n",
    "all_door_options = (1,2,3)  # tuple\n",
    "my_door_choice = 1 \n",
    "wins = 0\n",
    "reps = 100000 #Run the simulation 100000 times\n",
    "for i in range(reps):\n",
    "    winning_door = np.random.choice(all_door_options) #randomly pick a winning door \n",
    "    all_doors = list(all_door_options) #convert the tuple into a list\n",
    "    # remove the winning_door, so it is not shown as a \"goat\" losing door\n",
    "    all_doors.remove(winning_door)\n",
    "    try:\n",
    "        # if my_door_choice was the winning_door then it's already removed\n",
    "        all_doors.remove(my_door_choice)\n",
    "    except:\n",
    "        pass #an error will be raised because in the prior line we were trying to remove \n",
    "    #an element that has been removed if the player chose the winning door, so if this error arises, jump to the next code section\n",
    "    \n",
    "     # show a \"goat\" losing door and remove it\n",
    "    goat_door_reveal = np.random.choice( all_doors)\n",
    "    all_doors.remove(goat_door_reveal)\n",
    "\n",
    "    # put the winning_door back in if it wasn't the player's choice\n",
    "    # we previously removed it, so it would be shown as a  \"goat\" losing door\n",
    "    if winning_door != my_door_choice:\n",
    "        all_doors.append(winning_door)\n",
    "    # if winning_door was the player's choice then all that's left in the list is a \"goat\" losing door\n",
    "    # if winning_door wasn't the player's choice then it's all that will be left in the list\n",
    "\n",
    "    # swap strategy\n",
    "    my_door_choice = all_doors[0]  # The player is set to always choose the first door\n",
    "\n",
    "    if my_door_choice == winning_door:\n",
    "        wins += 1\n",
    "  \n",
    "  \n",
    "win_ratio = wins/reps\n",
    "print (win_ratio)"
   ]
  },
  {
   "cell_type": "markdown",
   "id": "1578c44c",
   "metadata": {},
   "source": [
    "# Question 6\n",
    "1, The ChatBot was able to assist me with my assignment right away. When I provided Chat with the word problem for either Monty Hall or Markov Chain problem, it gave me a comprehensive list of information about the problems, including the definition, the purpose, and the example of the codes. From that, I can learn and understand the codes, including new types of functions, methods, datatypes, etc., which will be useful in the future. Then if I still cannot find the answer for my homework based on the information generated by Chat, I can give it the specific question and ask directly for an answer, which can be solved easily.\n",
    "\n",
    "2, I sometimes find interacting with ChatBot to solve things I do not know confusing. Sometimes because I cannot express all the ideas or requirements needed for my answer, Chat may give an answer that does not directly meet my needs. In some cases, the answer provided by Chat can be a bit too advanced for me, including codes and more abstract ideas that I am not familiar with, so it takes time for me to digest the new information and solve my problem sets. Additionally, Chat could not yet interpret word problems like a human, so for some subjects that require knowledge beyond just coding, such as math, physics,... Chat’s ability to assist users is limited\n",
    "\n",
    "3, The ChatBot is super useful when providing the correct version of the code (if my given code has errors). However, I sometimes find it hard to understand new coding concepts that I have not encountered before since the explanation from Chat is not always that easy to digest. However, when I ask further questions for clarification or simplification of the explanation of the code, I receive the answer that fulfills my needs. However, to fully understand a new concept, I usually have to ask Chat multiple questions and seek examples, which is not as useful if I can ask a human to explain it to me. To sum up, ChatBot is a helpful tool that can assist me in learning coding, even though I have to be careful and provide appropriate prompts so that I can receive the expected answer."
   ]
  },
  {
   "cell_type": "markdown",
   "id": "5c55036c",
   "metadata": {},
   "source": [
    "# Question 7\n",
    "\n",
    "Since joining the course, my point of view on AI assistants like ChatBot has changed from viewing them as reference aids to understanding their deeper role in learning coding, statistics, and data science. Initially, I believed that Chat could provide me with the correct version of the code that contains errors, but I did not expect that it could have a vital impact on my learning journey, being a useful resource that I can seek for clarification on coding problem or understanding of more complicated topics. By working with Chat through the Titantic, and Monty Hall problem sets or learning about Markovian models, I realize that Chat can not only provide me with direct answers (with the condition that I provide concise prompts) but also deeper explanations or even extended topics that can help me broaden my knowledge. Over time, I am convinced that AI is not just an immediate problem solving tool, but also a pivotal companion on my learning journey, guiding me to explore new materials and challenges with confidence.\n"
   ]
  }
 ],
 "metadata": {
  "kernelspec": {
   "display_name": "Python 3 (ipykernel)",
   "language": "python",
   "name": "python3"
  },
  "language_info": {
   "codemirror_mode": {
    "name": "ipython",
    "version": 3
   },
   "file_extension": ".py",
   "mimetype": "text/x-python",
   "name": "python",
   "nbconvert_exporter": "python",
   "pygments_lexer": "ipython3",
   "version": "3.11.6"
  }
 },
 "nbformat": 4,
 "nbformat_minor": 5
}
