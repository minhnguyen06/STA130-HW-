{
 "cells": [
  {
   "cell_type": "markdown",
   "id": "2ffd8ee0",
   "metadata": {},
   "source": [
    "\n",
    "ChatGPT History:\n",
    "https://chatgpt.com/share/15be8151-cc5f-4369-91b6-10f135a5c0dd\n",
    "https://chatgpt.com/share/8287faa4-5768-4b08-8112-23807417ba6c\n",
    "https://chatgpt.com/share/66e370ff-0950-8003-a359-7be193de85d7\n",
    "\n",
    "\n",
    "Summary of Interaction:\n",
    "\n",
    "1. Dataset and Analysis:\n",
    "We discussed analyzing a dataset from the URL: \"https://raw.githubusercontent.com/rfordatascience/tidytuesday/master/data/2020/2020-05-05/villagers.csv\".\n",
    "You checked for missing values in the dataset and generated descriptive statistics to understand the data.\n",
    "\n",
    "2. Understanding describe() Output:\n",
    "The describe() function provides summary statistics for numeric columns, including:\n",
    "Count: The number of non-null values.\n",
    "Mean: The average value.\n",
    "Standard Deviation (std): Measures the spread of values around the mean.\n",
    "Minimum (min): The smallest value.\n",
    "25th, 50th, and 75th Percentiles: These quartiles indicate the spread of the data.\n",
    "Maximum (max): The largest value.\n",
    "\n",
    "3. Displaying All Data:\n",
    "To view all data in the DataFrame, adjustments in display settings are required to prevent truncation of rows and columns.\n",
    "Discrepancies:\n",
    "\n",
    "df.shape vs. df.describe():\n",
    "df.shape provides the total number of rows and columns, including all data types.\n",
    "df.describe() summarizes only numeric columns by default, excluding non-numeric columns.\n",
    "Missing Values:\n",
    "The \"count\" in describe() represents the number of non-missing values for each numeric column, which can be less than the total number of rows if there are missing values.\n",
    "\n",
    "4. Data Types:\n",
    "int vs. int64:\n",
    "int in Python can be of arbitrary precision.\n",
    "int64 is a specific 64-bit integer type used in libraries like NumPy and pandas.\n",
    "\n",
    "5. Code Correction:\n",
    "We corrected the usage of df.shape, noting that it should be accessed as an attribute without parentheses.\n",
    "\n",
    "6. Attributes:\n",
    "Properties of an object that you access directly.\n",
    "Do not require parentheses.\n",
    "Example: df.shape gives the dimensions of a DataFrame.\n",
    "\n",
    "7. Methods:\n",
    "Functions associated with an object that perform operations.\n",
    "Require parentheses to execute.\n",
    "Example: df.describe() generates a summary of statistics for the DataFrame.\n",
    "\n",
    "\n",
    "8. Definitions of Summary Statistics:\n",
    "We discussed the definitions of summary statistics provided by df.describe(), including Count, Mean, Std (Standard Deviation), Min, 25% (25th Percentile), 50% (Median), 75% (75th Percentile), and Max.\n",
    "Difference Between df.describe() and df.shape:\n",
    "\n",
    "You inquired why df.describe() might not show all variables (columns). I explained that df.describe() focuses on numerical columns by default and provides statistical summaries for those. It does not include non-numeric columns unless you specify the include='all' parameter. On the other hand, df.shape provides the dimensions of the DataFrame but does not offer detailed information about the columns.\n",
    "\n",
    "9. Initial Setup and Issues:\n",
    "You encountered a NameError because pd (pandas) was not imported.\n",
    "The error was resolved by importing pandas with import pandas as pd.\n",
    "File Handling Issues:\n",
    "\n",
    "You faced a FileNotFoundError because the file 'titanics.csv' was not found. The issue was resolved by either correcting the file name or using the direct URL to load the Titanic dataset.\n",
    "Code Error Corrections:\n",
    "\n",
    "You received a SyntaxError due to an unclosed parenthesis. This was fixed by closing the parenthesis in the pd.read_csv() function.\n",
    "An AttributeError occurred because group_by was incorrectly used instead of groupby. This was corrected by using the proper method name groupby.\n",
    "KeyError Troubleshooting:\n",
    "\n",
    "You encountered a KeyError for column names \"col1\" and \"col2\" and later for \"Sex\". This was resolved by using the correct column names and checking their case sensitivity.\n",
    "You updated the DataFrame name to df_titanic, and you corrected the column names to match those in your DataFrame.\n",
    "\n",
    "10. Final Correction:\n",
    "The final error, NameError, was due to not enclosing column names in quotes. This was resolved by using string literals for column names in the groupby method.\n"
   ]
  },
  {
   "cell_type": "markdown",
   "id": "bc64ace7",
   "metadata": {},
   "source": [
    "# QUESTION 1"
   ]
  },
  {
   "cell_type": "code",
   "execution_count": 1,
   "id": "f88c9c90",
   "metadata": {},
   "outputs": [
    {
     "name": "stdout",
     "output_type": "stream",
     "text": [
      "The dataset has 391 rows and 11 columns.\n",
      "There is(are) missing value(s) in the dataset\n",
      "\n",
      "     row_n        id      name  gender    species birthday personality  \\\n",
      "0        2   admiral   Admiral    male       bird     1-27      cranky   \n",
      "1        3   agent-s   Agent S  female   squirrel      7-2       peppy   \n",
      "2        4     agnes     Agnes  female        pig     4-21        uchi   \n",
      "3        6        al        Al    male    gorilla    10-18        lazy   \n",
      "4        7   alfonso   Alfonso    male  alligator      6-9        lazy   \n",
      "..     ...       ...       ...     ...        ...      ...         ...   \n",
      "386    475    winnie    Winnie  female      horse     1-31       peppy   \n",
      "387    477  wolfgang  Wolfgang    male       wolf    11-25      cranky   \n",
      "388    480      yuka      Yuka  female      koala     7-20      snooty   \n",
      "389    481      zell      Zell    male       deer      6-7        smug   \n",
      "390    483    zucker    Zucker    male    octopus      3-8        lazy   \n",
      "\n",
      "                song    phrase            full_id  \\\n",
      "0         Steep Hill   aye aye   villager-admiral   \n",
      "1            DJ K.K.  sidekick   villager-agent-s   \n",
      "2         K.K. House   snuffle     villager-agnes   \n",
      "3         Steep Hill   Ayyeeee        villager-al   \n",
      "4        Forest Life  it'sa me   villager-alfonso   \n",
      "..               ...       ...                ...   \n",
      "386         My Place    hay-OK    villager-winnie   \n",
      "387        K.K. Song   snarrrl  villager-wolfgang   \n",
      "388     Soulful K.K.   tsk tsk      villager-yuka   \n",
      "389         K.K. D&B     pronk      villager-zell   \n",
      "390  Spring Blossoms     bloop    villager-zucker   \n",
      "\n",
      "                                                   url  \n",
      "0    https://villagerdb.com/images/villagers/thumb/...  \n",
      "1    https://villagerdb.com/images/villagers/thumb/...  \n",
      "2    https://villagerdb.com/images/villagers/thumb/...  \n",
      "3    https://villagerdb.com/images/villagers/thumb/...  \n",
      "4    https://villagerdb.com/images/villagers/thumb/...  \n",
      "..                                                 ...  \n",
      "386  https://villagerdb.com/images/villagers/thumb/...  \n",
      "387  https://villagerdb.com/images/villagers/thumb/...  \n",
      "388  https://villagerdb.com/images/villagers/thumb/...  \n",
      "389  https://villagerdb.com/images/villagers/thumb/...  \n",
      "390  https://villagerdb.com/images/villagers/thumb/...  \n",
      "\n",
      "[391 rows x 11 columns]\n"
     ]
    }
   ],
   "source": [
    "import pandas as pd\n",
    "\n",
    "url = \"https://raw.githubusercontent.com/rfordatascience/tidytuesday/master/data/2020/2020-05-05/villagers.csv\"\n",
    "df = pd.read_csv(url)\n",
    "# Check for missing values\n",
    "missing_values = df.isnull().sum()\n",
    "\n",
    "#Get the dimensions of the dataset\n",
    "rows, columns = df.shape\n",
    "print(f\"The dataset has {rows} rows and {columns} columns.\")\n",
    "# To check if there are any missing values at all\n",
    "any_missing = missing_values.any()\n",
    "\n",
    "print(f\"There {'is(are)' if any_missing else 'is(are) not'} missing value(s) in the dataset\\n\")\n",
    "print (df)"
   ]
  },
  {
   "cell_type": "markdown",
   "id": "1851cc20",
   "metadata": {},
   "source": []
  },
  {
   "cell_type": "markdown",
   "id": "c0596276",
   "metadata": {
    "collapsed": true
   },
   "source": [
    "# QUESTION 2\n",
    "\n",
    " Definition of 'Observation' and 'Variable'\n",
    "    'Observation' is an instant record of a unique data (or object) as shown in a row of the dataset.\n",
    "From this, users can learn about all the characteristics of that data. In the above dataset,\n",
    "an observation refers to a unique person in the village.\n",
    "    'Variables' are the characteristics of the observation(s), and can varies between\n",
    "    different observations. Ragarding this dataset, variables are the names, gender,... of the people.\n"
   ]
  },
  {
   "cell_type": "markdown",
   "id": "f8eb5a65",
   "metadata": {},
   "source": [
    "# QUESTION 3"
   ]
  },
  {
   "cell_type": "code",
   "execution_count": 2,
   "id": "0986eca1",
   "metadata": {},
   "outputs": [
    {
     "name": "stdout",
     "output_type": "stream",
     "text": [
      "Summary statistics for numerical columns:\n",
      "       row_n\n",
      "count  391.0\n",
      "mean   239.9\n",
      "std    140.7\n",
      "min      2.0\n",
      "25%    117.5\n",
      "50%    240.0\n",
      "75%    363.5\n",
      "max    483.0\n",
      "\n",
      "Summary statistics for categorical columns:\n",
      "             id     name gender species birthday personality          song  \\\n",
      "count       390      391    391     391      391         391           380   \n",
      "unique      390      391      2      35      361           8            92   \n",
      "top     admiral  Admiral   male     cat     1-27        lazy  K.K. Country   \n",
      "freq          1        1    204      23        2          60            10   \n",
      "\n",
      "         phrase           full_id  \\\n",
      "count       391               391   \n",
      "unique      388               391   \n",
      "top     wee one  villager-admiral   \n",
      "freq          2                 1   \n",
      "\n",
      "                                                      url  \n",
      "count                                                 391  \n",
      "unique                                                391  \n",
      "top     https://villagerdb.com/images/villagers/thumb/...  \n",
      "freq                                                    1  \n",
      "\n",
      "Frequency of each species:\n",
      "species\n",
      "cat          23\n",
      "rabbit       20\n",
      "frog         18\n",
      "squirrel     18\n",
      "duck         17\n",
      "dog          16\n",
      "cub          16\n",
      "pig          15\n",
      "bear         15\n",
      "mouse        15\n",
      "horse        15\n",
      "bird         13\n",
      "penguin      13\n",
      "sheep        13\n",
      "elephant     11\n",
      "wolf         11\n",
      "ostrich      10\n",
      "deer         10\n",
      "eagle         9\n",
      "gorilla       9\n",
      "chicken       9\n",
      "koala         9\n",
      "goat          8\n",
      "hamster       8\n",
      "kangaroo      8\n",
      "monkey        8\n",
      "anteater      7\n",
      "hippo         7\n",
      "tiger         7\n",
      "alligator     7\n",
      "lion          7\n",
      "bull          6\n",
      "rhino         6\n",
      "cow           4\n",
      "octopus       3\n",
      "Name: count, dtype: int64\n",
      "\n",
      "Frequency of each personality type:\n",
      "personality\n",
      "lazy      60\n",
      "normal    59\n",
      "cranky    55\n",
      "snooty    55\n",
      "jock      55\n",
      "peppy     49\n",
      "smug      34\n",
      "uchi      24\n",
      "Name: count, dtype: int64\n"
     ]
    }
   ],
   "source": [
    "# 1. Summary statistics for numerical columns using describe()\n",
    "print(\"Summary statistics for numerical columns:\")\n",
    "print(df.describe().round(1))\n",
    "\n",
    "# 2. Summary statistics for categorical columns using describe(include=['object'])\n",
    "print(\"\\nSummary statistics for categorical columns:\")\n",
    "print(df.describe(include=['object']))\n",
    "\n",
    "# 3. Frequency of values in the 'species' column using value_counts()\n",
    "print(\"\\nFrequency of each species:\")\n",
    "print(df['species'].value_counts())\n",
    "\n",
    "# 4. Frequency of values in the 'personality' column using value_counts()\n",
    "print(\"\\nFrequency of each personality type:\")\n",
    "print(df['personality'].value_counts())"
   ]
  },
  {
   "cell_type": "code",
   "execution_count": null,
   "id": "4c6cca28",
   "metadata": {},
   "outputs": [],
   "source": []
  },
  {
   "cell_type": "markdown",
   "id": "a8d99616",
   "metadata": {},
   "source": [
    "# QUESTION 4"
   ]
  },
  {
   "cell_type": "code",
   "execution_count": 3,
   "id": "d4993e3d",
   "metadata": {},
   "outputs": [
    {
     "name": "stdout",
     "output_type": "stream",
     "text": [
      "Numbers of rows and columns of dataset: 891, 15\n"
     ]
    }
   ],
   "source": [
    "url = \" https://raw.githubusercontent.com/mwaskom/seaborn-data/master/titanic.csv\"\n",
    "df_titanic = pd.read_csv(url)\n",
    "df_titanic.isna().sum()\n",
    "\n",
    "rows_titanic,cols_titanic= df_titanic.shape\n",
    "print (f\"Numbers of rows and columns of dataset: {rows_titanic}, {cols_titanic}\")\n"
   ]
  },
  {
   "cell_type": "code",
   "execution_count": 4,
   "id": "2ac44c26",
   "metadata": {},
   "outputs": [
    {
     "name": "stdout",
     "output_type": "stream",
     "text": [
      "         survived      pclass         age       sibsp       parch        fare\n",
      "count  891.000000  891.000000  714.000000  891.000000  891.000000  891.000000\n",
      "mean     0.383838    2.308642   29.699118    0.523008    0.381594   32.204208\n",
      "std      0.486592    0.836071   14.526497    1.102743    0.806057   49.693429\n",
      "min      0.000000    1.000000    0.420000    0.000000    0.000000    0.000000\n",
      "25%      0.000000    2.000000   20.125000    0.000000    0.000000    7.910400\n",
      "50%      0.000000    3.000000   28.000000    0.000000    0.000000   14.454200\n",
      "75%      1.000000    3.000000   38.000000    1.000000    0.000000   31.000000\n",
      "max      1.000000    3.000000   80.000000    8.000000    6.000000  512.329200\n"
     ]
    }
   ],
   "source": [
    "print (df_titanic.describe())\n"
   ]
  },
  {
   "cell_type": "code",
   "execution_count": 5,
   "id": "165f72f3",
   "metadata": {},
   "outputs": [
    {
     "name": "stdout",
     "output_type": "stream",
     "text": [
      "          survived      pclass   sex         age       sibsp       parch  \\\n",
      "count   891.000000  891.000000   891  714.000000  891.000000  891.000000   \n",
      "unique         NaN         NaN     2         NaN         NaN         NaN   \n",
      "top            NaN         NaN  male         NaN         NaN         NaN   \n",
      "freq           NaN         NaN   577         NaN         NaN         NaN   \n",
      "mean      0.383838    2.308642   NaN   29.699118    0.523008    0.381594   \n",
      "std       0.486592    0.836071   NaN   14.526497    1.102743    0.806057   \n",
      "min       0.000000    1.000000   NaN    0.420000    0.000000    0.000000   \n",
      "25%       0.000000    2.000000   NaN   20.125000    0.000000    0.000000   \n",
      "50%       0.000000    3.000000   NaN   28.000000    0.000000    0.000000   \n",
      "75%       1.000000    3.000000   NaN   38.000000    1.000000    0.000000   \n",
      "max       1.000000    3.000000   NaN   80.000000    8.000000    6.000000   \n",
      "\n",
      "              fare embarked  class  who adult_male deck  embark_town alive  \\\n",
      "count   891.000000      889    891  891        891  203          889   891   \n",
      "unique         NaN        3      3    3          2    7            3     2   \n",
      "top            NaN        S  Third  man       True    C  Southampton    no   \n",
      "freq           NaN      644    491  537        537   59          644   549   \n",
      "mean     32.204208      NaN    NaN  NaN        NaN  NaN          NaN   NaN   \n",
      "std      49.693429      NaN    NaN  NaN        NaN  NaN          NaN   NaN   \n",
      "min       0.000000      NaN    NaN  NaN        NaN  NaN          NaN   NaN   \n",
      "25%       7.910400      NaN    NaN  NaN        NaN  NaN          NaN   NaN   \n",
      "50%      14.454200      NaN    NaN  NaN        NaN  NaN          NaN   NaN   \n",
      "75%      31.000000      NaN    NaN  NaN        NaN  NaN          NaN   NaN   \n",
      "max     512.329200      NaN    NaN  NaN        NaN  NaN          NaN   NaN   \n",
      "\n",
      "       alone  \n",
      "count    891  \n",
      "unique     2  \n",
      "top     True  \n",
      "freq     537  \n",
      "mean     NaN  \n",
      "std      NaN  \n",
      "min      NaN  \n",
      "25%      NaN  \n",
      "50%      NaN  \n",
      "75%      NaN  \n",
      "max      NaN  \n"
     ]
    }
   ],
   "source": [
    "print (df_titanic.describe(include='all'))\n",
    "#Included all the columns in the report"
   ]
  },
  {
   "cell_type": "markdown",
   "id": "20346b60",
   "metadata": {},
   "source": [
    "a) The discrepancies between the size of the dataset given by df_titanic.shape and what is reported by df_titanic.describe() is that  df_titanic.shape counts all columns, including non-numeric ones like strings (e.g., names, categories) and numeric columns. However, df_titanic.describe(), only analyzes numeric columns, ignoring any non-numeric columns like strings or categorical data. Because in the titanic dataset, there are columns containing non-numeric values and missing values, so the report using df_titanic.describe() will provide fewer number of columns than the actual columns the dataset has (those columns that contain non-numeric that do not have values to find the mean, max, min,etc will not be displayed when using the describe method).\n",
    "b) In the code section where only the describe method is used (without specifying to include all of the data), the \"count\" column has smaller value compared to what is shown by df_titanic.shape -> not all the data is analyzed (the describe method omits the columns that has non-numeric values or missing values). But in the latter code section where I edit and pass include=all into the parameter, the \"count\" value is the same as the number of columns given by the shape attribute, so it is proven that using only the describe method without specifying to include all data in the parameter will cause some columns to be not included.\n",
    "\n"
   ]
  },
  {
   "cell_type": "markdown",
   "id": "93bc7c03",
   "metadata": {},
   "source": [
    "b) In the code section where only the describe method is used (without specifying to include all of the data), the \"count\" column has smaller value compared to what is shown by df_titanic.shape -> not all the data is analyzed (the describe method omits the columns that has non-numeric values or missing values). But in the latter code section where I edit and pass include=all into the parameter, the \"count\" value is the same as the number of columns given by the shape attribute, so it is proven that using only the describe method without specifying to include all data in the parameter will cause some columns to be not included."
   ]
  },
  {
   "cell_type": "markdown",
   "id": "4a0ab5ef",
   "metadata": {},
   "source": [
    "# QUESTION 5\n",
    "An attribute, such as df.shape is considered a characteristic of the dataset, so when the users want to retrieve the property of the object (dataset), they can just get it directly without having to operate any operation on that object, therefore no parentheses needed.\n",
    "A method, however, operate computation(s) on the dataset (generate descriptive statistics about the dataset, like calculating the mean, max, min, etc,..). So when users want to use a method, they will have to have parentheses at the end (df.describe()), so that the system will know that users want to execute that method on the object.\n",
    "\n",
    "\n"
   ]
  },
  {
   "cell_type": "markdown",
   "id": "ceed06f0",
   "metadata": {},
   "source": [
    "# QUESTION 6\n",
    "Count: The number of non-null (non-missing) values in the dataset for each variable. It shows how many observations are present for each column.\n",
    "\n",
    "Mean: The average value of the variable. It is calculated by taking the sum all the values in the variable and divide by the number of values.\n",
    "\n",
    "Std (Standard Deviation): Indicate the dispersion or variability of the values in the variable, measure how far is the values in the variables are from the mean value. A high standard deviation means values are spread out over a wider range, while a low standard deviation means values are closer to the mean.\n",
    "\n",
    "Min (Minimum): The smallest value in the dataset for each variable.\n",
    "\n",
    "25% (25th Percentile): The value below which 25% of the observations fall. It is also known as the first quartile (Q1). This shows the value that 25% of the data is less than or equal to.\n",
    "\n",
    "50% (50th Percentile or Median): The middle value of the dataset when it is ordered. Half of the observations are less than or equal to this value, and half are greater than or equal to this value. It is also known as the median.\n",
    "\n",
    "75% (75th Percentile): The value below which 75% of the observations fall. It is also known as the third quartile (Q3). This shows the value that 75% of the data is less than or equal to.\n",
    "\n",
    "Max (Maximum): The largest value in the dataset for each variable.\n",
    "\n"
   ]
  },
  {
   "cell_type": "markdown",
   "id": "1e2bdb0b",
   "metadata": {},
   "source": [
    "# QUESTION 7\n",
    "1. df.dropna() might be preferred over using del df['col'] when the user wants to \"clean up\" the whole dataset, remove all the rows with incomplete information and only analyze the those having complete data in their variables.\n",
    "2. del df['col'] might be preferred over using df.dropna() when the user only wants to remove a specific column of data, while keeping the others (might has missing value) for their analysis\n",
    "3. Applying del df['col'] before df.dropna() when both are used together could be important because when executing del df['col'], specific column(s) of unwanted data will be delete, therefore when running df.dropna(), not the whole observation will be deleted. For example if a row has ten columns and only one of them has missing value(s), using del df['col'] and removing that only column with missing value can ensure that all of the others data will be kept and not the whole row is gone (if df.dropna() is executed afterward)\n",
    "\n"
   ]
  },
  {
   "cell_type": "code",
   "execution_count": 6,
   "id": "39d70a76",
   "metadata": {},
   "outputs": [
    {
     "name": "stdout",
     "output_type": "stream",
     "text": [
      "     row_n        id      name  gender    species birthday personality  \\\n",
      "0        2   admiral   Admiral    male       bird     1-27      cranky   \n",
      "1        3   agent-s   Agent S  female   squirrel      7-2       peppy   \n",
      "2        4     agnes     Agnes  female        pig     4-21        uchi   \n",
      "3        6        al        Al    male    gorilla    10-18        lazy   \n",
      "4        7   alfonso   Alfonso    male  alligator      6-9        lazy   \n",
      "..     ...       ...       ...     ...        ...      ...         ...   \n",
      "386    475    winnie    Winnie  female      horse     1-31       peppy   \n",
      "387    477  wolfgang  Wolfgang    male       wolf    11-25      cranky   \n",
      "388    480      yuka      Yuka  female      koala     7-20      snooty   \n",
      "389    481      zell      Zell    male       deer      6-7        smug   \n",
      "390    483    zucker    Zucker    male    octopus      3-8        lazy   \n",
      "\n",
      "                song    phrase            full_id  \\\n",
      "0         Steep Hill   aye aye   villager-admiral   \n",
      "1            DJ K.K.  sidekick   villager-agent-s   \n",
      "2         K.K. House   snuffle     villager-agnes   \n",
      "3         Steep Hill   Ayyeeee        villager-al   \n",
      "4        Forest Life  it'sa me   villager-alfonso   \n",
      "..               ...       ...                ...   \n",
      "386         My Place    hay-OK    villager-winnie   \n",
      "387        K.K. Song   snarrrl  villager-wolfgang   \n",
      "388     Soulful K.K.   tsk tsk      villager-yuka   \n",
      "389         K.K. D&B     pronk      villager-zell   \n",
      "390  Spring Blossoms     bloop    villager-zucker   \n",
      "\n",
      "                                                   url  \n",
      "0    https://villagerdb.com/images/villagers/thumb/...  \n",
      "1    https://villagerdb.com/images/villagers/thumb/...  \n",
      "2    https://villagerdb.com/images/villagers/thumb/...  \n",
      "3    https://villagerdb.com/images/villagers/thumb/...  \n",
      "4    https://villagerdb.com/images/villagers/thumb/...  \n",
      "..                                                 ...  \n",
      "386  https://villagerdb.com/images/villagers/thumb/...  \n",
      "387  https://villagerdb.com/images/villagers/thumb/...  \n",
      "388  https://villagerdb.com/images/villagers/thumb/...  \n",
      "389  https://villagerdb.com/images/villagers/thumb/...  \n",
      "390  https://villagerdb.com/images/villagers/thumb/...  \n",
      "\n",
      "[391 rows x 11 columns]\n"
     ]
    }
   ],
   "source": [
    "print (df)"
   ]
  },
  {
   "cell_type": "code",
   "execution_count": 7,
   "id": "b5ca9308",
   "metadata": {},
   "outputs": [
    {
     "name": "stdout",
     "output_type": "stream",
     "text": [
      "\n",
      "After:\n",
      "\n"
     ]
    },
    {
     "data": {
      "text/html": [
       "<div>\n",
       "<style scoped>\n",
       "    .dataframe tbody tr th:only-of-type {\n",
       "        vertical-align: middle;\n",
       "    }\n",
       "\n",
       "    .dataframe tbody tr th {\n",
       "        vertical-align: top;\n",
       "    }\n",
       "\n",
       "    .dataframe thead th {\n",
       "        text-align: right;\n",
       "    }\n",
       "</style>\n",
       "<table border=\"1\" class=\"dataframe\">\n",
       "  <thead>\n",
       "    <tr style=\"text-align: right;\">\n",
       "      <th></th>\n",
       "      <th>row_n</th>\n",
       "    </tr>\n",
       "  </thead>\n",
       "  <tbody>\n",
       "    <tr>\n",
       "      <th>count</th>\n",
       "      <td>379.000000</td>\n",
       "    </tr>\n",
       "    <tr>\n",
       "      <th>mean</th>\n",
       "      <td>238.905013</td>\n",
       "    </tr>\n",
       "    <tr>\n",
       "      <th>std</th>\n",
       "      <td>141.256012</td>\n",
       "    </tr>\n",
       "    <tr>\n",
       "      <th>min</th>\n",
       "      <td>2.000000</td>\n",
       "    </tr>\n",
       "    <tr>\n",
       "      <th>25%</th>\n",
       "      <td>115.500000</td>\n",
       "    </tr>\n",
       "    <tr>\n",
       "      <th>50%</th>\n",
       "      <td>238.000000</td>\n",
       "    </tr>\n",
       "    <tr>\n",
       "      <th>75%</th>\n",
       "      <td>362.500000</td>\n",
       "    </tr>\n",
       "    <tr>\n",
       "      <th>max</th>\n",
       "      <td>483.000000</td>\n",
       "    </tr>\n",
       "  </tbody>\n",
       "</table>\n",
       "</div>"
      ],
      "text/plain": [
       "            row_n\n",
       "count  379.000000\n",
       "mean   238.905013\n",
       "std    141.256012\n",
       "min      2.000000\n",
       "25%    115.500000\n",
       "50%    238.000000\n",
       "75%    362.500000\n",
       "max    483.000000"
      ]
     },
     "execution_count": 7,
     "metadata": {},
     "output_type": "execute_result"
    }
   ],
   "source": [
    "print (\"\\nAfter:\\n\")\n",
    "df_cleaned=df.dropna()\n",
    "df_cleaned.describe()"
   ]
  },
  {
   "cell_type": "markdown",
   "id": "a3c45474",
   "metadata": {},
   "source": [
    "In the titanic dataset, I only use df.dropna() to drop all the rows that have missing value. By doing this I will be informed about only passengers and characteristics that all have data from all the passengers. This is because there are many columns (characteristics) that are not completed, so using del df['col'] is not as sufficient because df.dropna() will still eliminate the rows anyways (if use it afterward).\n"
   ]
  },
  {
   "cell_type": "markdown",
   "id": "2114ef4a",
   "metadata": {},
   "source": [
    "# QUESTION 8.3"
   ]
  },
  {
   "cell_type": "markdown",
   "id": "cbb8ca33",
   "metadata": {},
   "source": [
    "\n",
    "Most likely through all of the errors, using ChatGPT is more sufficient. This is because I inform the Chat about the dataset I am working with and the purpose, use, etc of that, so the Chat can interpret that and provide information that can directly answer my question and provide solution to fix the error that I have. Meanwhile, when searching on Google, there are related chats/article about the problem I encounter, but is not as specific so it takes more time to filter out the answer that fits my situation.\n",
    "\n",
    "In the last error G: \"Forget to put the column name as a string in quotes for the groupby and column selection\", using ChatBot is still sufficient as it still has the idea of what my code wants to do (although there is error), but Google can not interpret what is going on with my code so it is hard to find solution or related article(s) that can solve the error. Moreover, it is possible that if I assign the name of the column, and in my code, there can be a variable in the parentheses (as shown below) and Google is not likely to recognize that error, so Google is not a great tool to solve the kind of problem like 8.3.G. \n",
    " "
   ]
  },
  {
   "cell_type": "markdown",
   "id": "c828a891",
   "metadata": {},
   "source": [
    "\n",
    "column_name = \"sex\""
   ]
  },
  {
   "cell_type": "markdown",
   "id": "b765e66a",
   "metadata": {},
   "source": [
    "df_titanic.groupby(column_name)[\"age\"].describe()"
   ]
  }
 ],
 "metadata": {
  "kernelspec": {
   "display_name": "Python 3 (ipykernel)",
   "language": "python",
   "name": "python3"
  },
  "language_info": {
   "codemirror_mode": {
    "name": "ipython",
    "version": 3
   },
   "file_extension": ".py",
   "mimetype": "text/x-python",
   "name": "python",
   "nbconvert_exporter": "python",
   "pygments_lexer": "ipython3",
   "version": "3.11.6"
  }
 },
 "nbformat": 4,
 "nbformat_minor": 5
}
